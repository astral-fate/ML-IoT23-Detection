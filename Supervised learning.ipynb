{
 "cells": [
  {
   "cell_type": "markdown",
   "id": "6e82100e",
   "metadata": {},
   "source": [
    "# Install libraries "
   ]
  },
  {
   "cell_type": "code",
   "execution_count": 1,
   "id": "95050fab",
   "metadata": {},
   "outputs": [],
   "source": [
    "import pandas as pd\n",
    "import time\n",
    "import numpy as np\n",
    "import seaborn as sns\n",
    "import matplotlib.pyplot as plt\n",
    "\n",
    "import tensorflow as tf\n",
    "from tensorflow import keras\n",
    "from tensorflow.keras import layers\n",
    "\n",
    "from sklearn.svm import SVC\n",
    "from sklearn.model_selection import GridSearchCV\n",
    "from sklearn.metrics import classification_report, confusion_matrix\n",
    "from sklearn.model_selection import train_test_split\n",
    "from sklearn.tree import DecisionTreeClassifier\n",
    "from sklearn.svm import SVC\n",
    "from sklearn.metrics import classification_report\n",
    "from sklearn.naive_bayes import GaussianNB\n",
    "from sklearn.preprocessing import LabelEncoder, OneHotEncoder, StandardScaler\n",
    "from sklearn.preprocessing import LabelEncoder, OneHotEncoder, StandardScaler\n",
    "from sklearn.metrics import mean_squared_error\n",
    "from sklearn.tree import DecisionTreeClassifier"
   ]
  },
  {
   "cell_type": "markdown",
   "id": "3a4a6a55",
   "metadata": {},
   "source": [
    "# Read the Excel file into a Pandas DataFrame"
   ]
  },
  {
   "cell_type": "code",
   "execution_count": 2,
   "id": "07ca16ab",
   "metadata": {},
   "outputs": [],
   "source": [
    "# Read the Excel file into a Pandas DataFrame\n",
    "df = pd.read_excel('IoT-23_Dataset_details.xlsx')\n",
    "\n",
    "# Write the DataFrame to a CSV file\n",
    "df.to_csv('IoT22.csv', index=False)\n"
   ]
  },
  {
   "cell_type": "markdown",
   "id": "506ee953",
   "metadata": {},
   "source": [
    "# Examine the dataframe"
   ]
  },
  {
   "cell_type": "code",
   "execution_count": 3,
   "id": "be5fa2e1",
   "metadata": {},
   "outputs": [
    {
     "data": {
      "text/html": [
       "<div>\n",
       "<style scoped>\n",
       "    .dataframe tbody tr th:only-of-type {\n",
       "        vertical-align: middle;\n",
       "    }\n",
       "\n",
       "    .dataframe tbody tr th {\n",
       "        vertical-align: top;\n",
       "    }\n",
       "\n",
       "    .dataframe thead th {\n",
       "        text-align: right;\n",
       "    }\n",
       "</style>\n",
       "<table border=\"1\" class=\"dataframe\">\n",
       "  <thead>\n",
       "    <tr style=\"text-align: right;\">\n",
       "      <th></th>\n",
       "      <th>#</th>\n",
       "      <th>Name of Dataset</th>\n",
       "      <th>Duration(hrs)</th>\n",
       "      <th>#Packets</th>\n",
       "      <th>#ZeekFlows</th>\n",
       "      <th>Pcap Size</th>\n",
       "      <th>Name</th>\n",
       "    </tr>\n",
       "  </thead>\n",
       "  <tbody>\n",
       "    <tr>\n",
       "      <th>0</th>\n",
       "      <td>1</td>\n",
       "      <td>CTU-IoT-Malware-Capture-34-1</td>\n",
       "      <td>24</td>\n",
       "      <td>233000</td>\n",
       "      <td>23146</td>\n",
       "      <td>121 MB</td>\n",
       "      <td>Mirai</td>\n",
       "    </tr>\n",
       "    <tr>\n",
       "      <th>1</th>\n",
       "      <td>2</td>\n",
       "      <td>CTU-IoT-Malware-Capture-43-1</td>\n",
       "      <td>1</td>\n",
       "      <td>82000000</td>\n",
       "      <td>67321810</td>\n",
       "      <td>6 GB</td>\n",
       "      <td>Mirai</td>\n",
       "    </tr>\n",
       "    <tr>\n",
       "      <th>2</th>\n",
       "      <td>3</td>\n",
       "      <td>CTU-IoT-Malware-Capture-44-1</td>\n",
       "      <td>2</td>\n",
       "      <td>1309000</td>\n",
       "      <td>238</td>\n",
       "      <td>1.7 GB</td>\n",
       "      <td>Mirai</td>\n",
       "    </tr>\n",
       "    <tr>\n",
       "      <th>3</th>\n",
       "      <td>4</td>\n",
       "      <td>CTU-IoT-Malware-Capture-49-1</td>\n",
       "      <td>8</td>\n",
       "      <td>18000000</td>\n",
       "      <td>5410562</td>\n",
       "      <td>1.3 GB</td>\n",
       "      <td>Mirai</td>\n",
       "    </tr>\n",
       "    <tr>\n",
       "      <th>4</th>\n",
       "      <td>5</td>\n",
       "      <td>CTU-IoT-Malware-Capture-52-1</td>\n",
       "      <td>24</td>\n",
       "      <td>64000000</td>\n",
       "      <td>19781379</td>\n",
       "      <td>4.6 GB</td>\n",
       "      <td>Mirai</td>\n",
       "    </tr>\n",
       "  </tbody>\n",
       "</table>\n",
       "</div>"
      ],
      "text/plain": [
       "   #               Name of Dataset  Duration(hrs)  #Packets  #ZeekFlows  \\\n",
       "0  1  CTU-IoT-Malware-Capture-34-1             24    233000       23146   \n",
       "1  2  CTU-IoT-Malware-Capture-43-1              1  82000000    67321810   \n",
       "2  3  CTU-IoT-Malware-Capture-44-1              2   1309000         238   \n",
       "3  4  CTU-IoT-Malware-Capture-49-1              8  18000000     5410562   \n",
       "4  5  CTU-IoT-Malware-Capture-52-1             24  64000000    19781379   \n",
       "\n",
       "  Pcap Size   Name  \n",
       "0    121 MB  Mirai  \n",
       "1      6 GB  Mirai  \n",
       "2    1.7 GB  Mirai  \n",
       "3    1.3 GB  Mirai  \n",
       "4    4.6 GB  Mirai  "
      ]
     },
     "execution_count": 3,
     "metadata": {},
     "output_type": "execute_result"
    }
   ],
   "source": [
    "df.head()"
   ]
  },
  {
   "cell_type": "code",
   "execution_count": 4,
   "id": "05eed151",
   "metadata": {},
   "outputs": [],
   "source": [
    "\n",
    "data = pd.read_csv(\"iot23_combined.csv\")"
   ]
  },
  {
   "cell_type": "code",
   "execution_count": 5,
   "id": "92a57618",
   "metadata": {},
   "outputs": [
    {
     "data": {
      "text/html": [
       "<div>\n",
       "<style scoped>\n",
       "    .dataframe tbody tr th:only-of-type {\n",
       "        vertical-align: middle;\n",
       "    }\n",
       "\n",
       "    .dataframe tbody tr th {\n",
       "        vertical-align: top;\n",
       "    }\n",
       "\n",
       "    .dataframe thead th {\n",
       "        text-align: right;\n",
       "    }\n",
       "</style>\n",
       "<table border=\"1\" class=\"dataframe\">\n",
       "  <thead>\n",
       "    <tr style=\"text-align: right;\">\n",
       "      <th></th>\n",
       "      <th>Unnamed: 0</th>\n",
       "      <th>ts</th>\n",
       "      <th>id.orig_h</th>\n",
       "      <th>duration</th>\n",
       "      <th>orig_bytes</th>\n",
       "      <th>resp_bytes</th>\n",
       "      <th>missed_bytes</th>\n",
       "      <th>orig_pkts</th>\n",
       "      <th>orig_ip_bytes</th>\n",
       "      <th>resp_pkts</th>\n",
       "      <th>...</th>\n",
       "      <th>conn_state_RSTOS0</th>\n",
       "      <th>conn_state_RSTR</th>\n",
       "      <th>conn_state_RSTRH</th>\n",
       "      <th>conn_state_S0</th>\n",
       "      <th>conn_state_S1</th>\n",
       "      <th>conn_state_S2</th>\n",
       "      <th>conn_state_S3</th>\n",
       "      <th>conn_state_SF</th>\n",
       "      <th>conn_state_SH</th>\n",
       "      <th>conn_state_SHR</th>\n",
       "    </tr>\n",
       "  </thead>\n",
       "  <tbody>\n",
       "    <tr>\n",
       "      <th>0</th>\n",
       "      <td>0</td>\n",
       "      <td>1.540470e+09</td>\n",
       "      <td>192.168.1.132</td>\n",
       "      <td>0.003497</td>\n",
       "      <td>0</td>\n",
       "      <td>0</td>\n",
       "      <td>0.0</td>\n",
       "      <td>5.0</td>\n",
       "      <td>212.0</td>\n",
       "      <td>3.0</td>\n",
       "      <td>...</td>\n",
       "      <td>0</td>\n",
       "      <td>0</td>\n",
       "      <td>0</td>\n",
       "      <td>0</td>\n",
       "      <td>0</td>\n",
       "      <td>0</td>\n",
       "      <td>0</td>\n",
       "      <td>1</td>\n",
       "      <td>0</td>\n",
       "      <td>0</td>\n",
       "    </tr>\n",
       "    <tr>\n",
       "      <th>1</th>\n",
       "      <td>1</td>\n",
       "      <td>1.540470e+09</td>\n",
       "      <td>192.168.1.132</td>\n",
       "      <td>0.036724</td>\n",
       "      <td>34</td>\n",
       "      <td>311</td>\n",
       "      <td>0.0</td>\n",
       "      <td>1.0</td>\n",
       "      <td>62.0</td>\n",
       "      <td>1.0</td>\n",
       "      <td>...</td>\n",
       "      <td>0</td>\n",
       "      <td>0</td>\n",
       "      <td>0</td>\n",
       "      <td>0</td>\n",
       "      <td>0</td>\n",
       "      <td>0</td>\n",
       "      <td>0</td>\n",
       "      <td>1</td>\n",
       "      <td>0</td>\n",
       "      <td>0</td>\n",
       "    </tr>\n",
       "    <tr>\n",
       "      <th>2</th>\n",
       "      <td>2</td>\n",
       "      <td>1.540469e+09</td>\n",
       "      <td>192.168.1.132</td>\n",
       "      <td>384.518261</td>\n",
       "      <td>15072</td>\n",
       "      <td>0</td>\n",
       "      <td>0.0</td>\n",
       "      <td>48.0</td>\n",
       "      <td>16416.0</td>\n",
       "      <td>0.0</td>\n",
       "      <td>...</td>\n",
       "      <td>0</td>\n",
       "      <td>0</td>\n",
       "      <td>0</td>\n",
       "      <td>1</td>\n",
       "      <td>0</td>\n",
       "      <td>0</td>\n",
       "      <td>0</td>\n",
       "      <td>0</td>\n",
       "      <td>0</td>\n",
       "      <td>0</td>\n",
       "    </tr>\n",
       "    <tr>\n",
       "      <th>3</th>\n",
       "      <td>3</td>\n",
       "      <td>1.540470e+09</td>\n",
       "      <td>192.168.1.132</td>\n",
       "      <td>0.270332</td>\n",
       "      <td>48</td>\n",
       "      <td>48</td>\n",
       "      <td>0.0</td>\n",
       "      <td>1.0</td>\n",
       "      <td>76.0</td>\n",
       "      <td>1.0</td>\n",
       "      <td>...</td>\n",
       "      <td>0</td>\n",
       "      <td>0</td>\n",
       "      <td>0</td>\n",
       "      <td>0</td>\n",
       "      <td>0</td>\n",
       "      <td>0</td>\n",
       "      <td>0</td>\n",
       "      <td>1</td>\n",
       "      <td>0</td>\n",
       "      <td>0</td>\n",
       "    </tr>\n",
       "    <tr>\n",
       "      <th>4</th>\n",
       "      <td>4</td>\n",
       "      <td>1.540470e+09</td>\n",
       "      <td>192.168.1.132</td>\n",
       "      <td>0.111429</td>\n",
       "      <td>48</td>\n",
       "      <td>48</td>\n",
       "      <td>0.0</td>\n",
       "      <td>1.0</td>\n",
       "      <td>76.0</td>\n",
       "      <td>1.0</td>\n",
       "      <td>...</td>\n",
       "      <td>0</td>\n",
       "      <td>0</td>\n",
       "      <td>0</td>\n",
       "      <td>0</td>\n",
       "      <td>0</td>\n",
       "      <td>0</td>\n",
       "      <td>0</td>\n",
       "      <td>1</td>\n",
       "      <td>0</td>\n",
       "      <td>0</td>\n",
       "    </tr>\n",
       "  </tbody>\n",
       "</table>\n",
       "<p>5 rows × 28 columns</p>\n",
       "</div>"
      ],
      "text/plain": [
       "   Unnamed: 0            ts      id.orig_h    duration  orig_bytes  \\\n",
       "0           0  1.540470e+09  192.168.1.132    0.003497           0   \n",
       "1           1  1.540470e+09  192.168.1.132    0.036724          34   \n",
       "2           2  1.540469e+09  192.168.1.132  384.518261       15072   \n",
       "3           3  1.540470e+09  192.168.1.132    0.270332          48   \n",
       "4           4  1.540470e+09  192.168.1.132    0.111429          48   \n",
       "\n",
       "   resp_bytes  missed_bytes  orig_pkts  orig_ip_bytes  resp_pkts  ...  \\\n",
       "0           0           0.0        5.0          212.0        3.0  ...   \n",
       "1         311           0.0        1.0           62.0        1.0  ...   \n",
       "2           0           0.0       48.0        16416.0        0.0  ...   \n",
       "3          48           0.0        1.0           76.0        1.0  ...   \n",
       "4          48           0.0        1.0           76.0        1.0  ...   \n",
       "\n",
       "   conn_state_RSTOS0 conn_state_RSTR  conn_state_RSTRH  conn_state_S0  \\\n",
       "0                  0               0                 0              0   \n",
       "1                  0               0                 0              0   \n",
       "2                  0               0                 0              1   \n",
       "3                  0               0                 0              0   \n",
       "4                  0               0                 0              0   \n",
       "\n",
       "   conn_state_S1  conn_state_S2  conn_state_S3  conn_state_SF  conn_state_SH  \\\n",
       "0              0              0              0              1              0   \n",
       "1              0              0              0              1              0   \n",
       "2              0              0              0              0              0   \n",
       "3              0              0              0              1              0   \n",
       "4              0              0              0              1              0   \n",
       "\n",
       "   conn_state_SHR  \n",
       "0               0  \n",
       "1               0  \n",
       "2               0  \n",
       "3               0  \n",
       "4               0  \n",
       "\n",
       "[5 rows x 28 columns]"
      ]
     },
     "execution_count": 5,
     "metadata": {},
     "output_type": "execute_result"
    }
   ],
   "source": [
    "data.head()"
   ]
  },
  {
   "cell_type": "code",
   "execution_count": 6,
   "id": "5a1ee7bc",
   "metadata": {},
   "outputs": [
    {
     "data": {
      "text/plain": [
       "Index(['Unnamed: 0', 'ts', 'id.orig_h', 'duration', 'orig_bytes', 'resp_bytes',\n",
       "       'missed_bytes', 'orig_pkts', 'orig_ip_bytes', 'resp_pkts',\n",
       "       'resp_ip_bytes', 'label', 'proto_icmp', 'proto_tcp', 'proto_udp',\n",
       "       'conn_state_OTH', 'conn_state_REJ', 'conn_state_RSTO',\n",
       "       'conn_state_RSTOS0', 'conn_state_RSTR', 'conn_state_RSTRH',\n",
       "       'conn_state_S0', 'conn_state_S1', 'conn_state_S2', 'conn_state_S3',\n",
       "       'conn_state_SF', 'conn_state_SH', 'conn_state_SHR'],\n",
       "      dtype='object')"
      ]
     },
     "execution_count": 6,
     "metadata": {},
     "output_type": "execute_result"
    }
   ],
   "source": [
    "data.columns"
   ]
  },
  {
   "cell_type": "markdown",
   "id": "b1063626",
   "metadata": {},
   "source": [
    "# Show the unique values of the type of attacks"
   ]
  },
  {
   "cell_type": "code",
   "execution_count": 7,
   "id": "9fe691d2",
   "metadata": {},
   "outputs": [
    {
     "data": {
      "text/plain": [
       "array(['Benign', 'PartOfAHorizontalPortScan', 'Okiru', 'DDoS',\n",
       "       'C&C-HeartBeat', '-   Benign   -', 'C&C-Torii', 'C&C', 'Attack',\n",
       "       'C&C-FileDownload', 'FileDownload', 'C&C-HeartBeat-FileDownload',\n",
       "       'C&C-Mirai'], dtype=object)"
      ]
     },
     "execution_count": 7,
     "metadata": {},
     "output_type": "execute_result"
    }
   ],
   "source": [
    "data.label.unique()"
   ]
  },
  {
   "cell_type": "markdown",
   "id": "1b7becff",
   "metadata": {},
   "source": [
    "# Count the frequencies of the type of attack"
   ]
  },
  {
   "cell_type": "code",
   "execution_count": 8,
   "id": "7b0760e0",
   "metadata": {},
   "outputs": [
    {
     "data": {
      "text/plain": [
       "PartOfAHorizontalPortScan     825939\n",
       "Okiru                         262690\n",
       "-   Benign   -                146275\n",
       "DDoS                          138777\n",
       "Benign                         53481\n",
       "C&C                            15100\n",
       "Attack                          3915\n",
       "C&C-HeartBeat                    349\n",
       "C&C-FileDownload                  43\n",
       "C&C-Torii                         30\n",
       "FileDownload                      13\n",
       "C&C-HeartBeat-FileDownload         8\n",
       "C&C-Mirai                          1\n",
       "Name: label, dtype: int64"
      ]
     },
     "execution_count": 8,
     "metadata": {},
     "output_type": "execute_result"
    }
   ],
   "source": [
    "data['label'].value_counts()"
   ]
  },
  {
   "cell_type": "markdown",
   "id": "0fd055f8",
   "metadata": {},
   "source": [
    "# Plot the frequencies of every type of attack"
   ]
  },
  {
   "cell_type": "code",
   "execution_count": 9,
   "id": "4ef1e209",
   "metadata": {
    "scrolled": false
   },
   "outputs": [
    {
     "data": {
      "image/png": "[encoded data removed]",
      "text/plain": [
       "<Figure size 640x480 with 1 Axes>"
      ]
     },
     "metadata": {},
     "output_type": "display_data"
    }
   ],
   "source": [
    "\n",
    "\n",
    "sns.countplot(x='label', data=data)\n",
    "plt.xticks(rotation=60)\n",
    "plt.show()\n"
   ]
  },
  {
   "cell_type": "markdown",
   "id": "0e34d691",
   "metadata": {},
   "source": [
    "## Clean the data"
   ]
  },
  {
   "cell_type": "code",
   "execution_count": 10,
   "id": "27d520e6",
   "metadata": {},
   "outputs": [],
   "source": [
    "\n",
    "\n",
    "data['label'].replace({'-   Benign   -': 'Benign', 'Benign ': 'Benign'}, inplace=True)\n"
   ]
  },
  {
   "cell_type": "code",
   "execution_count": 11,
   "id": "cbb5b517",
   "metadata": {},
   "outputs": [
    {
     "data": {
      "text/plain": [
       "array(['Benign', 'PartOfAHorizontalPortScan', 'Okiru', 'DDoS',\n",
       "       'C&C-HeartBeat', 'C&C-Torii', 'C&C', 'Attack', 'C&C-FileDownload',\n",
       "       'FileDownload', 'C&C-HeartBeat-FileDownload', 'C&C-Mirai'],\n",
       "      dtype=object)"
      ]
     },
     "execution_count": 11,
     "metadata": {},
     "output_type": "execute_result"
    }
   ],
   "source": [
    "data.label.unique()"
   ]
  },
  {
   "cell_type": "markdown",
   "id": "060add23",
   "metadata": {},
   "source": [
    "# Building The Classification Models\n",
    "\n",
    "#### Classification models(Support Vector machine & Naive Bayes)"
   ]
  },
  {
   "cell_type": "markdown",
   "id": "a31bf08a",
   "metadata": {},
   "source": [
    "# Support Vector machine (SVM)"
   ]
  },
  {
   "cell_type": "markdown",
   "id": "475e887d",
   "metadata": {},
   "source": [
    "### Reshape the dataframe"
   ]
  },
  {
   "cell_type": "code",
   "execution_count": 37,
   "id": "79c876d0",
   "metadata": {},
   "outputs": [],
   "source": [
    "filepath = \"iot23_combined.csv\"\n",
    "data = pd.read_csv(filepath)\n",
    "SVM = pd.read_csv(filepath, nrows=4000)"
   ]
  },
  {
   "cell_type": "markdown",
   "id": "6f112d68",
   "metadata": {},
   "source": [
    "# Drop columns that are unessary"
   ]
  },
  {
   "cell_type": "code",
   "execution_count": 13,
   "id": "d32b07f3",
   "metadata": {},
   "outputs": [],
   "source": [
    "del SVM['Unnamed: 0']"
   ]
  },
  {
   "cell_type": "code",
   "execution_count": 14,
   "id": "e99293a3",
   "metadata": {},
   "outputs": [],
   "source": [
    "del SVM['id.orig_h']"
   ]
  },
  {
   "cell_type": "code",
   "execution_count": 15,
   "id": "91bdf618",
   "metadata": {},
   "outputs": [],
   "source": [
    "del SVM['ts']"
   ]
  },
  {
   "cell_type": "markdown",
   "id": "610f2a2f",
   "metadata": {},
   "source": [
    "# Show the shape of the dataframe"
   ]
  },
  {
   "cell_type": "code",
   "execution_count": 16,
   "id": "abd5bc1b",
   "metadata": {},
   "outputs": [
    {
     "data": {
      "text/plain": [
       "(4000, 25)"
      ]
     },
     "execution_count": 16,
     "metadata": {},
     "output_type": "execute_result"
    }
   ],
   "source": [
    "SVM.shape"
   ]
  },
  {
   "cell_type": "code",
   "execution_count": 17,
   "id": "f101df11",
   "metadata": {},
   "outputs": [],
   "source": [
    "SVM.columns = ['duration', 'orig_bytes', 'resp_bytes', 'missed_bytes', 'orig_pkts', 'orig_ip_bytes', 'resp_pkts', 'resp_ip_bytes', 'label', 'proto_icmp', 'proto_tcp', 'proto_udp', 'conn_state_OTH', 'conn_state_REJ', 'conn_state_RSTO', 'conn_state_RSTOS0', 'conn_state_RSTR', 'conn_state_RSTRH', 'conn_state_S0', 'conn_state_S1', 'conn_state_S2', 'conn_state_S3', 'conn_state_SF', 'conn_state_SH', 'conn_state_SHR']"
   ]
  },
  {
   "cell_type": "code",
   "execution_count": null,
   "id": "c1830600",
   "metadata": {},
   "outputs": [],
   "source": []
  },
  {
   "cell_type": "markdown",
   "id": "59f288ca",
   "metadata": {},
   "source": [
    "# Encode the target variable"
   ]
  },
  {
   "cell_type": "code",
   "execution_count": 161,
   "id": "cf87689a",
   "metadata": {},
   "outputs": [],
   "source": [
    "from sklearn.preprocessing import LabelEncoder\n",
    "\n",
    "le = LabelEncoder()\n",
    "SVM['label'] = le.fit_transform(SVM['label'])\n"
   ]
  },
  {
   "cell_type": "markdown",
   "id": "7b575ef6",
   "metadata": {},
   "source": [
    "# Train the SVM model"
   ]
  },
  {
   "cell_type": "code",
   "execution_count": 165,
   "id": "307c3ee6",
   "metadata": {},
   "outputs": [
    {
     "name": "stdout",
     "output_type": "stream",
     "text": [
      "[LibSVM]Model Accuracy:  0.7425\n",
      "\n",
      "Classification Report:\n",
      "              precision    recall  f1-score   support\n",
      "\n",
      "           0       0.74      1.00      0.85       594\n",
      "           1       0.00      0.00      0.00       206\n",
      "\n",
      "    accuracy                           0.74       800\n",
      "   macro avg       0.37      0.50      0.43       800\n",
      "weighted avg       0.55      0.74      0.63       800\n",
      "\n",
      "\n",
      "\n",
      "Time taken:  0.0 seconds\n"
     ]
    },
    {
     "name": "stderr",
     "output_type": "stream",
     "text": [
      "C:\\ProgramData\\anaconda3\\lib\\site-packages\\sklearn\\metrics\\_classification.py:1344: UndefinedMetricWarning: Precision and F-score are ill-defined and being set to 0.0 in labels with no predicted samples. Use `zero_division` parameter to control this behavior.\n",
      "  _warn_prf(average, modifier, msg_start, len(result))\n",
      "C:\\ProgramData\\anaconda3\\lib\\site-packages\\sklearn\\metrics\\_classification.py:1344: UndefinedMetricWarning: Precision and F-score are ill-defined and being set to 0.0 in labels with no predicted samples. Use `zero_division` parameter to control this behavior.\n",
      "  _warn_prf(average, modifier, msg_start, len(result))\n",
      "C:\\ProgramData\\anaconda3\\lib\\site-packages\\sklearn\\metrics\\_classification.py:1344: UndefinedMetricWarning: Precision and F-score are ill-defined and being set to 0.0 in labels with no predicted samples. Use `zero_division` parameter to control this behavior.\n",
      "  _warn_prf(average, modifier, msg_start, len(result))\n"
     ]
    },
    {
     "data": {
      "image/png": "[encoded data removed]",
      "text/plain": [
       "<Figure size 640x480 with 1 Axes>"
      ]
     },
     "metadata": {},
     "output_type": "display_data"
    }
   ],
   "source": [
    "#define the features and target\n",
    "features = ['duration', 'orig_bytes', 'resp_bytes', 'missed_bytes', 'orig_pkts', 'orig_ip_bytes', 'resp_pkts', 'resp_ip_bytes', 'proto_icmp', 'proto_tcp', 'proto_udp', 'conn_state_OTH', 'conn_state_REJ', 'conn_state_RSTO', 'conn_state_RSTOS0', 'conn_state_RSTR', 'conn_state_RSTRH', 'conn_state_S0', 'conn_state_S1', 'conn_state_S2', 'conn_state_S3', 'conn_state_SF', 'conn_state_SH', 'conn_state_SHR']\n",
    "target = 'label'\n",
    "\n",
    "#load the data\n",
    "X = SVM[features]\n",
    "Y = SVM[target]\n",
    "\n",
    "#split the data into training and testing sets\n",
    "X_train, X_test, Y_train, Y_test = train_test_split(X, Y, random_state=10, test_size=0.2)\n",
    "\n",
    "#create the SVM classifier model and fit it to the training data\n",
    "SVM_classifier = SVC(C=1.0, cache_size=1500, verbose=True)\n",
    "SVM_classifier.fit(X_train, Y_train)\n",
    "\n",
    "#evaluate the model on the testing data\n",
    "score = SVM_classifier.score(X_test, Y_test)\n",
    "print('Model Accuracy: ', score)\n",
    "print()\n",
    "\n",
    "#predict the labels of the test set\n",
    "y_pred = SVM_classifier.predict(X_test)\n",
    "\n",
    "\n",
    "#calculate the classification report of the model\n",
    "report = classification_report(Y_test, y_pred)\n",
    "print('Classification Report:')\n",
    "print(report)\n",
    "print()\n",
    "\n",
    "#calculate the time taken by the model to run\n",
    "start_time = time.time()\n",
    "\n",
    "print()\n",
    "\n",
    "end_time = time.time()\n",
    "\n",
    "print('Time taken: ', end_time - start_time, 'seconds')\n",
    "\n",
    "#plot the predicted values\n",
    "plt.scatter(Y_test, y_pred, color='green')\n",
    "plt.title('Predicting Test Set')\n",
    "plt.xlabel(target)\n",
    "plt.ylabel('Predicted ' + target)\n",
    "plt.show()\n",
    "\n",
    "\n"
   ]
  },
  {
   "cell_type": "code",
   "execution_count": 163,
   "id": "29f2bc13",
   "metadata": {},
   "outputs": [],
   "source": [
    "from sklearn.metrics import mean_squared_error, r2_score\n"
   ]
  },
  {
   "cell_type": "markdown",
   "id": "c30cc060",
   "metadata": {},
   "source": [
    "# Train the Naive Bayse model\n",
    "\n",
    "### Read the data"
   ]
  },
  {
   "cell_type": "code",
   "execution_count": 42,
   "id": "aec84adb",
   "metadata": {},
   "outputs": [],
   "source": [
    "filepath = \"iot23_combined.csv\"\n",
    "NP = pd.read_csv(filepath)\n",
    "NP = pd.read_csv(filepath, nrows=40000)"
   ]
  },
  {
   "cell_type": "code",
   "execution_count": 46,
   "id": "0012e3a2",
   "metadata": {},
   "outputs": [
    {
     "name": "stdout",
     "output_type": "stream",
     "text": [
      "program start...\n",
      "\n",
      "\n",
      "0.948125\n",
      "\n",
      "['PartOfAHorizontalPortScan' 'PartOfAHorizontalPortScan'\n",
      " 'PartOfAHorizontalPortScan' ... 'Benign' 'PartOfAHorizontalPortScan'\n",
      " 'Benign']\n",
      "\n",
      "0.1618945598602295 seconds\n",
      "Classifiction Report :\n",
      "                           precision    recall  f1-score   support\n",
      "\n",
      "                   Benign       1.00      0.89      0.94      3757\n",
      "PartOfAHorizontalPortScan       0.91      1.00      0.95      4243\n",
      "\n",
      "                 accuracy                           0.95      8000\n",
      "                macro avg       0.95      0.94      0.95      8000\n",
      "             weighted avg       0.95      0.95      0.95      8000\n",
      "\n"
     ]
    }
   ],
   "source": [
    "X = NP[['duration', 'orig_bytes', 'resp_bytes', 'missed_bytes', 'orig_pkts', 'orig_ip_bytes', 'resp_pkts', 'resp_ip_bytes', 'proto_icmp', 'proto_tcp', 'proto_udp', 'conn_state_OTH', 'conn_state_REJ', 'conn_state_RSTO', 'conn_state_RSTOS0', 'conn_state_RSTR', 'conn_state_RSTRH', 'conn_state_S0', 'conn_state_S1', 'conn_state_S2', 'conn_state_S3', 'conn_state_SF', 'conn_state_SH', 'conn_state_SHR']]\n",
    "Y = NP['label']\n",
    "\n",
    "from sklearn.preprocessing import MinMaxScaler\n",
    "scaler = MinMaxScaler()\n",
    "scaler.fit(X)\n",
    "normalized_x = scaler.transform(X)\n",
    "normalized_x\n",
    "\n",
    "X_train, X_test, Y_train, Y_test = train_test_split(normalized_x, Y, random_state=100, test_size=0.2)\n",
    "\n",
    "clf = GaussianNB()\n",
    "clf.fit(X_train, Y_train)\n",
    "\n",
    "start = time.time()\n",
    "print('program start...')\n",
    "print()\n",
    "\n",
    "clf = GaussianNB().fit(X_train, Y_train)\n",
    "print()\n",
    "print(clf.score(X_test, Y_test))\n",
    "print()\n",
    "\n",
    "y_pred = clf.fit(X_train, Y_train).predict(X_test)\n",
    "print(y_pred)\n",
    "print()\n",
    "\n",
    "end = time.time()\n",
    "\n",
    "print(end - start, 'seconds')\n",
    "\n",
    "print(\"Classifiction Report :\")\n",
    "print(classification_report(Y_test, y_pred))"
   ]
  },
  {
   "cell_type": "markdown",
   "id": "ad08f3c7",
   "metadata": {},
   "source": [
    "# Building The Regression Models\n",
    "\n",
    "## Classification models( Decision Tree & Neural Networks)\n",
    "\n",
    "### Read the dataframe"
   ]
  },
  {
   "cell_type": "code",
   "execution_count": 47,
   "id": "de0dbd74",
   "metadata": {},
   "outputs": [],
   "source": [
    "filepath = \"iot23_combined.csv\"\n",
    "DS = pd.read_csv(filepath)\n",
    "DS = pd.read_csv(filepath, nrows=40000)"
   ]
  },
  {
   "cell_type": "markdown",
   "id": "0dd8a81c",
   "metadata": {},
   "source": [
    "# Train Decision Tree Model"
   ]
  },
  {
   "cell_type": "code",
   "execution_count": 55,
   "id": "2fece2c5",
   "metadata": {},
   "outputs": [
    {
     "name": "stdout",
     "output_type": "stream",
     "text": [
      "program start...\n",
      "\n",
      "\n",
      "0.95\n",
      "\n",
      "['PartOfAHorizontalPortScan' 'Benign' 'PartOfAHorizontalPortScan' ...\n",
      " 'PartOfAHorizontalPortScan' 'PartOfAHorizontalPortScan'\n",
      " 'PartOfAHorizontalPortScan']\n",
      "\n",
      "program end...\n",
      "\n",
      "time cost: \n",
      "0.10580229759216309 seconds\n",
      "Classification Report :\n",
      "                           precision    recall  f1-score   support\n",
      "\n",
      "                   Benign       0.99      0.90      0.95      3822\n",
      "PartOfAHorizontalPortScan       0.92      0.99      0.95      4178\n",
      "\n",
      "                 accuracy                           0.95      8000\n",
      "                macro avg       0.96      0.95      0.95      8000\n",
      "             weighted avg       0.95      0.95      0.95      8000\n",
      "\n"
     ]
    }
   ],
   "source": [
    "\n",
    "# select features and target variable\n",
    "features = ['duration', 'orig_bytes', 'resp_bytes', 'missed_bytes', 'orig_pkts', 'orig_ip_bytes', 'resp_pkts', 'resp_ip_bytes', 'proto_icmp', 'proto_tcp', 'proto_udp', 'conn_state_OTH', 'conn_state_REJ', 'conn_state_RSTO', 'conn_state_RSTOS0', 'conn_state_RSTR', 'conn_state_RSTRH', 'conn_state_S0', 'conn_state_S1', 'conn_state_S2', 'conn_state_S3', 'conn_state_SF', 'conn_state_SH', 'conn_state_SHR']\n",
    "target = 'label'\n",
    "\n",
    "# split data into train and test sets\n",
    "X_train, X_test, Y_train, Y_test = train_test_split(DS[features], DS[target], random_state=10, test_size=0.2)\n",
    "\n",
    "# create Decision Tree classifier and fit the model\n",
    "dt = DecisionTreeClassifier()\n",
    "start = time.time()\n",
    "print('program start...')\n",
    "print()\n",
    "dt.fit(X_train, Y_train)\n",
    "print()\n",
    "\n",
    "# evaluate the model\n",
    "print(dt.score(X_test, Y_test))\n",
    "print()\n",
    "y_pred = dt.predict(X_test)\n",
    "print(y_pred)\n",
    "print()\n",
    "\n",
    "end = time.time()\n",
    "print('program end...')\n",
    "print()\n",
    "print('time cost: ')\n",
    "print(end - start, 'seconds')\n",
    "print(\"Classification Report :\")\n",
    "print(classification_report(Y_test, y_pred))\n",
    "\n"
   ]
  },
  {
   "cell_type": "markdown",
   "id": "865748c5",
   "metadata": {},
   "source": [
    "# Train CNN  Model"
   ]
  },
  {
   "cell_type": "code",
   "execution_count": 56,
   "id": "6d0a64d8",
   "metadata": {},
   "outputs": [],
   "source": [
    "import numpy as np\n",
    "import pandas as pd\n",
    "import tensorflow as tf\n",
    "from matplotlib import pyplot\n",
    "from tensorflow.keras import Model\n",
    "from tensorflow.keras import Sequential\n",
    "from tensorflow.keras.models import Sequential, Model\n",
    "from tensorflow.keras.layers import Conv2D, Input, Dropout, Activation, Dense, MaxPooling2D, Flatten, GlobalAveragePooling2D\n",
    "from tensorflow.keras.optimizers import Adadelta\n",
    "from tensorflow.keras.callbacks import ModelCheckpoint\n",
    "from tensorflow.keras.layers import Dense\n",
    "from tensorflow.keras.layers import LSTM\n",
    "import sklearn\n",
    "from sklearn.preprocessing import MinMaxScaler"
   ]
  },
  {
   "cell_type": "code",
   "execution_count": 63,
   "id": "d253b70f",
   "metadata": {},
   "outputs": [],
   "source": [
    "filepath = \"iot23_combined.csv\"\n",
    "CNN = pd.read_csv(filepath)\n"
   ]
  },
  {
   "cell_type": "code",
   "execution_count": 64,
   "id": "241ef740",
   "metadata": {},
   "outputs": [],
   "source": [
    "del CNN['Unnamed: 0']"
   ]
  },
  {
   "cell_type": "code",
   "execution_count": 80,
   "id": "314cf3fb",
   "metadata": {},
   "outputs": [],
   "source": [
    "del CNN['id.orig_h']"
   ]
  },
  {
   "cell_type": "code",
   "execution_count": 133,
   "id": "90b0b992",
   "metadata": {},
   "outputs": [],
   "source": [
    "del CNN['ts']"
   ]
  },
  {
   "cell_type": "markdown",
   "id": "4a0f32a8",
   "metadata": {},
   "source": [
    "# Set features"
   ]
  },
  {
   "cell_type": "code",
   "execution_count": 134,
   "id": "7c3d147b",
   "metadata": {},
   "outputs": [],
   "source": [
    "X = CNN[['duration', 'orig_bytes', 'resp_bytes', 'missed_bytes', 'orig_pkts', 'orig_ip_bytes', 'resp_pkts', 'resp_ip_bytes', 'proto_icmp', 'proto_tcp', 'proto_udp', 'conn_state_OTH', 'conn_state_REJ', 'conn_state_RSTO', 'conn_state_RSTOS0', 'conn_state_RSTR', 'conn_state_RSTRH', 'conn_state_S0', 'conn_state_S1', 'conn_state_S2', 'conn_state_S3', 'conn_state_SF', 'conn_state_SH', 'conn_state_SHR']].values"
   ]
  },
  {
   "cell_type": "markdown",
   "id": "d477efbe",
   "metadata": {},
   "source": [
    "# Encode the target variable"
   ]
  },
  {
   "cell_type": "code",
   "execution_count": 135,
   "id": "7967cb78",
   "metadata": {},
   "outputs": [],
   "source": [
    "from sklearn.preprocessing import LabelEncoder\n",
    "\n",
    "le = LabelEncoder()\n",
    "CNN['label'] = le.fit_transform(CNN['label'])\n"
   ]
  },
  {
   "cell_type": "code",
   "execution_count": 136,
   "id": "44b3abf4",
   "metadata": {},
   "outputs": [
    {
     "data": {
      "text/plain": [
       "0           2\n",
       "1           2\n",
       "2           2\n",
       "3           2\n",
       "4           2\n",
       "           ..\n",
       "1446616    12\n",
       "1446617    12\n",
       "1446618    12\n",
       "1446619    12\n",
       "1446620    12\n",
       "Name: label, Length: 1446621, dtype: int64"
      ]
     },
     "execution_count": 136,
     "metadata": {},
     "output_type": "execute_result"
    }
   ],
   "source": [
    "CNN['label']"
   ]
  },
  {
   "cell_type": "code",
   "execution_count": 137,
   "id": "c58f4815",
   "metadata": {},
   "outputs": [],
   "source": [
    "#define the features and target\n",
    "features = ['duration', 'orig_bytes', 'resp_bytes', 'missed_bytes', 'orig_pkts', 'orig_ip_bytes', 'resp_pkts', 'resp_ip_bytes', 'proto_icmp', 'proto_tcp', 'proto_udp', 'conn_state_OTH', 'conn_state_REJ', 'conn_state_RSTO', 'conn_state_RSTOS0', 'conn_state_RSTR', 'conn_state_RSTRH', 'conn_state_S0', 'conn_state_S1', 'conn_state_S2', 'conn_state_S3', 'conn_state_SF', 'conn_state_SH', 'conn_state_SHR']\n",
    "target = 'label'\n",
    "\n",
    "#load the data\n",
    "X = CNN[features]\n",
    "Y = CNN[target]"
   ]
  },
  {
   "cell_type": "code",
   "execution_count": 138,
   "id": "db57484a",
   "metadata": {},
   "outputs": [],
   "source": [
    "Y = pd.get_dummies(CNN['label']).values"
   ]
  },
  {
   "cell_type": "code",
   "execution_count": 139,
   "id": "29b77462",
   "metadata": {},
   "outputs": [
    {
     "data": {
      "text/plain": [
       "(1446621, 24)"
      ]
     },
     "execution_count": 139,
     "metadata": {},
     "output_type": "execute_result"
    }
   ],
   "source": [
    "X.shape"
   ]
  },
  {
   "cell_type": "markdown",
   "id": "b0dfc9ec",
   "metadata": {},
   "source": [
    "# Scale the features"
   ]
  },
  {
   "cell_type": "code",
   "execution_count": 140,
   "id": "f915ebf9",
   "metadata": {},
   "outputs": [],
   "source": [
    "scaler = MinMaxScaler()"
   ]
  },
  {
   "cell_type": "code",
   "execution_count": 141,
   "id": "9ff1e9f5",
   "metadata": {},
   "outputs": [
    {
     "data": {
      "text/html": [
       "<style>#sk-container-id-9 {color: black;background-color: white;}#sk-container-id-9 pre{padding: 0;}#sk-container-id-9 div.sk-toggleable {background-color: white;}#sk-container-id-9 label.sk-toggleable__label {cursor: pointer;display: block;width: 100%;margin-bottom: 0;padding: 0.3em;box-sizing: border-box;text-align: center;}#sk-container-id-9 label.sk-toggleable__label-arrow:before {content: \"▸\";float: left;margin-right: 0.25em;color: #696969;}#sk-container-id-9 label.sk-toggleable__label-arrow:hover:before {color: black;}#sk-container-id-9 div.sk-estimator:hover label.sk-toggleable__label-arrow:before {color: black;}#sk-container-id-9 div.sk-toggleable__content {max-height: 0;max-width: 0;overflow: hidden;text-align: left;background-color: #f0f8ff;}#sk-container-id-9 div.sk-toggleable__content pre {margin: 0.2em;color: black;border-radius: 0.25em;background-color: #f0f8ff;}#sk-container-id-9 input.sk-toggleable__control:checked~div.sk-toggleable__content {max-height: 200px;max-width: 100%;overflow: auto;}#sk-container-id-9 input.sk-toggleable__control:checked~label.sk-toggleable__label-arrow:before {content: \"▾\";}#sk-container-id-9 div.sk-estimator input.sk-toggleable__control:checked~label.sk-toggleable__label {background-color: #d4ebff;}#sk-container-id-9 div.sk-label input.sk-toggleable__control:checked~label.sk-toggleable__label {background-color: #d4ebff;}#sk-container-id-9 input.sk-hidden--visually {border: 0;clip: rect(1px 1px 1px 1px);clip: rect(1px, 1px, 1px, 1px);height: 1px;margin: -1px;overflow: hidden;padding: 0;position: absolute;width: 1px;}#sk-container-id-9 div.sk-estimator {font-family: monospace;background-color: #f0f8ff;border: 1px dotted black;border-radius: 0.25em;box-sizing: border-box;margin-bottom: 0.5em;}#sk-container-id-9 div.sk-estimator:hover {background-color: #d4ebff;}#sk-container-id-9 div.sk-parallel-item::after {content: \"\";width: 100%;border-bottom: 1px solid gray;flex-grow: 1;}#sk-container-id-9 div.sk-label:hover label.sk-toggleable__label {background-color: #d4ebff;}#sk-container-id-9 div.sk-serial::before {content: \"\";position: absolute;border-left: 1px solid gray;box-sizing: border-box;top: 0;bottom: 0;left: 50%;z-index: 0;}#sk-container-id-9 div.sk-serial {display: flex;flex-direction: column;align-items: center;background-color: white;padding-right: 0.2em;padding-left: 0.2em;position: relative;}#sk-container-id-9 div.sk-item {position: relative;z-index: 1;}#sk-container-id-9 div.sk-parallel {display: flex;align-items: stretch;justify-content: center;background-color: white;position: relative;}#sk-container-id-9 div.sk-item::before, #sk-container-id-9 div.sk-parallel-item::before {content: \"\";position: absolute;border-left: 1px solid gray;box-sizing: border-box;top: 0;bottom: 0;left: 50%;z-index: -1;}#sk-container-id-9 div.sk-parallel-item {display: flex;flex-direction: column;z-index: 1;position: relative;background-color: white;}#sk-container-id-9 div.sk-parallel-item:first-child::after {align-self: flex-end;width: 50%;}#sk-container-id-9 div.sk-parallel-item:last-child::after {align-self: flex-start;width: 50%;}#sk-container-id-9 div.sk-parallel-item:only-child::after {width: 0;}#sk-container-id-9 div.sk-dashed-wrapped {border: 1px dashed gray;margin: 0 0.4em 0.5em 0.4em;box-sizing: border-box;padding-bottom: 0.4em;background-color: white;}#sk-container-id-9 div.sk-label label {font-family: monospace;font-weight: bold;display: inline-block;line-height: 1.2em;}#sk-container-id-9 div.sk-label-container {text-align: center;}#sk-container-id-9 div.sk-container {/* jupyter's `normalize.less` sets `[hidden] { display: none; }` but bootstrap.min.css set `[hidden] { display: none !important; }` so we also need the `!important` here to be able to override the default hidden behavior on the sphinx rendered scikit-learn.org. See: https://github.com/scikit-learn/scikit-learn/issues/21755 */display: inline-block !important;position: relative;}#sk-container-id-9 div.sk-text-repr-fallback {display: none;}</style><div id=\"sk-container-id-9\" class=\"sk-top-container\"><div class=\"sk-text-repr-fallback\"><pre>MinMaxScaler()</pre><b>In a Jupyter environment, please rerun this cell to show the HTML representation or trust the notebook. <br />On GitHub, the HTML representation is unable to render, please try loading this page with nbviewer.org.</b></div><div class=\"sk-container\" hidden><div class=\"sk-item\"><div class=\"sk-estimator sk-toggleable\"><input class=\"sk-toggleable__control sk-hidden--visually\" id=\"sk-estimator-id-9\" type=\"checkbox\" checked><label for=\"sk-estimator-id-9\" class=\"sk-toggleable__label sk-toggleable__label-arrow\">MinMaxScaler</label><div class=\"sk-toggleable__content\"><pre>MinMaxScaler()</pre></div></div></div></div></div>"
      ],
      "text/plain": [
       "MinMaxScaler()"
      ]
     },
     "execution_count": 141,
     "metadata": {},
     "output_type": "execute_result"
    }
   ],
   "source": [
    "scaler.fit(X)"
   ]
  },
  {
   "cell_type": "code",
   "execution_count": 142,
   "id": "d7785332",
   "metadata": {},
   "outputs": [],
   "source": [
    "normalized_x = scaler.transform(X)"
   ]
  },
  {
   "cell_type": "code",
   "execution_count": 143,
   "id": "66d69caf",
   "metadata": {},
   "outputs": [
    {
     "data": {
      "text/plain": [
       "array([[1.27280578e-05, 5.73121586e-10, 2.97162380e-09, ...,\n",
       "        1.00000000e+00, 0.00000000e+00, 0.00000000e+00],\n",
       "       [1.31494992e-05, 2.00592555e-08, 9.27146625e-07, ...,\n",
       "        1.00000000e+00, 0.00000000e+00, 0.00000000e+00],\n",
       "       [4.88979910e-03, 8.63866167e-06, 2.97162380e-09, ...,\n",
       "        0.00000000e+00, 0.00000000e+00, 0.00000000e+00],\n",
       "       ...,\n",
       "       [1.26837029e-05, 5.73121586e-10, 2.97162380e-09, ...,\n",
       "        0.00000000e+00, 0.00000000e+00, 0.00000000e+00],\n",
       "       [1.26837029e-05, 5.73121586e-10, 2.97162380e-09, ...,\n",
       "        0.00000000e+00, 0.00000000e+00, 0.00000000e+00],\n",
       "       [1.26837029e-05, 5.73121586e-10, 2.97162380e-09, ...,\n",
       "        0.00000000e+00, 0.00000000e+00, 0.00000000e+00]])"
      ]
     },
     "execution_count": 143,
     "metadata": {},
     "output_type": "execute_result"
    }
   ],
   "source": [
    "normalized_x"
   ]
  },
  {
   "cell_type": "code",
   "execution_count": 144,
   "id": "5a9f4d16",
   "metadata": {},
   "outputs": [
    {
     "data": {
      "text/plain": [
       "(1446621, 24)"
      ]
     },
     "execution_count": 144,
     "metadata": {},
     "output_type": "execute_result"
    }
   ],
   "source": [
    "normalized_x.shape"
   ]
  },
  {
   "cell_type": "code",
   "execution_count": 145,
   "id": "02805ed3",
   "metadata": {},
   "outputs": [
    {
     "data": {
      "text/html": [
       "<style>#sk-container-id-10 {color: black;background-color: white;}#sk-container-id-10 pre{padding: 0;}#sk-container-id-10 div.sk-toggleable {background-color: white;}#sk-container-id-10 label.sk-toggleable__label {cursor: pointer;display: block;width: 100%;margin-bottom: 0;padding: 0.3em;box-sizing: border-box;text-align: center;}#sk-container-id-10 label.sk-toggleable__label-arrow:before {content: \"▸\";float: left;margin-right: 0.25em;color: #696969;}#sk-container-id-10 label.sk-toggleable__label-arrow:hover:before {color: black;}#sk-container-id-10 div.sk-estimator:hover label.sk-toggleable__label-arrow:before {color: black;}#sk-container-id-10 div.sk-toggleable__content {max-height: 0;max-width: 0;overflow: hidden;text-align: left;background-color: #f0f8ff;}#sk-container-id-10 div.sk-toggleable__content pre {margin: 0.2em;color: black;border-radius: 0.25em;background-color: #f0f8ff;}#sk-container-id-10 input.sk-toggleable__control:checked~div.sk-toggleable__content {max-height: 200px;max-width: 100%;overflow: auto;}#sk-container-id-10 input.sk-toggleable__control:checked~label.sk-toggleable__label-arrow:before {content: \"▾\";}#sk-container-id-10 div.sk-estimator input.sk-toggleable__control:checked~label.sk-toggleable__label {background-color: #d4ebff;}#sk-container-id-10 div.sk-label input.sk-toggleable__control:checked~label.sk-toggleable__label {background-color: #d4ebff;}#sk-container-id-10 input.sk-hidden--visually {border: 0;clip: rect(1px 1px 1px 1px);clip: rect(1px, 1px, 1px, 1px);height: 1px;margin: -1px;overflow: hidden;padding: 0;position: absolute;width: 1px;}#sk-container-id-10 div.sk-estimator {font-family: monospace;background-color: #f0f8ff;border: 1px dotted black;border-radius: 0.25em;box-sizing: border-box;margin-bottom: 0.5em;}#sk-container-id-10 div.sk-estimator:hover {background-color: #d4ebff;}#sk-container-id-10 div.sk-parallel-item::after {content: \"\";width: 100%;border-bottom: 1px solid gray;flex-grow: 1;}#sk-container-id-10 div.sk-label:hover label.sk-toggleable__label {background-color: #d4ebff;}#sk-container-id-10 div.sk-serial::before {content: \"\";position: absolute;border-left: 1px solid gray;box-sizing: border-box;top: 0;bottom: 0;left: 50%;z-index: 0;}#sk-container-id-10 div.sk-serial {display: flex;flex-direction: column;align-items: center;background-color: white;padding-right: 0.2em;padding-left: 0.2em;position: relative;}#sk-container-id-10 div.sk-item {position: relative;z-index: 1;}#sk-container-id-10 div.sk-parallel {display: flex;align-items: stretch;justify-content: center;background-color: white;position: relative;}#sk-container-id-10 div.sk-item::before, #sk-container-id-10 div.sk-parallel-item::before {content: \"\";position: absolute;border-left: 1px solid gray;box-sizing: border-box;top: 0;bottom: 0;left: 50%;z-index: -1;}#sk-container-id-10 div.sk-parallel-item {display: flex;flex-direction: column;z-index: 1;position: relative;background-color: white;}#sk-container-id-10 div.sk-parallel-item:first-child::after {align-self: flex-end;width: 50%;}#sk-container-id-10 div.sk-parallel-item:last-child::after {align-self: flex-start;width: 50%;}#sk-container-id-10 div.sk-parallel-item:only-child::after {width: 0;}#sk-container-id-10 div.sk-dashed-wrapped {border: 1px dashed gray;margin: 0 0.4em 0.5em 0.4em;box-sizing: border-box;padding-bottom: 0.4em;background-color: white;}#sk-container-id-10 div.sk-label label {font-family: monospace;font-weight: bold;display: inline-block;line-height: 1.2em;}#sk-container-id-10 div.sk-label-container {text-align: center;}#sk-container-id-10 div.sk-container {/* jupyter's `normalize.less` sets `[hidden] { display: none; }` but bootstrap.min.css set `[hidden] { display: none !important; }` so we also need the `!important` here to be able to override the default hidden behavior on the sphinx rendered scikit-learn.org. See: https://github.com/scikit-learn/scikit-learn/issues/21755 */display: inline-block !important;position: relative;}#sk-container-id-10 div.sk-text-repr-fallback {display: none;}</style><div id=\"sk-container-id-10\" class=\"sk-top-container\"><div class=\"sk-text-repr-fallback\"><pre>MinMaxScaler()</pre><b>In a Jupyter environment, please rerun this cell to show the HTML representation or trust the notebook. <br />On GitHub, the HTML representation is unable to render, please try loading this page with nbviewer.org.</b></div><div class=\"sk-container\" hidden><div class=\"sk-item\"><div class=\"sk-estimator sk-toggleable\"><input class=\"sk-toggleable__control sk-hidden--visually\" id=\"sk-estimator-id-10\" type=\"checkbox\" checked><label for=\"sk-estimator-id-10\" class=\"sk-toggleable__label sk-toggleable__label-arrow\">MinMaxScaler</label><div class=\"sk-toggleable__content\"><pre>MinMaxScaler()</pre></div></div></div></div></div>"
      ],
      "text/plain": [
       "MinMaxScaler()"
      ]
     },
     "execution_count": 145,
     "metadata": {},
     "output_type": "execute_result"
    }
   ],
   "source": [
    "scaler.fit(Y)"
   ]
  },
  {
   "cell_type": "code",
   "execution_count": 146,
   "id": "2d782213",
   "metadata": {},
   "outputs": [],
   "source": [
    "normalized_y = scaler.transform(Y)"
   ]
  },
  {
   "cell_type": "code",
   "execution_count": 147,
   "id": "7a3deb91",
   "metadata": {},
   "outputs": [
    {
     "data": {
      "text/plain": [
       "array([[0., 0., 1., ..., 0., 0., 0.],\n",
       "       [0., 0., 1., ..., 0., 0., 0.],\n",
       "       [0., 0., 1., ..., 0., 0., 0.],\n",
       "       ...,\n",
       "       [0., 0., 0., ..., 0., 0., 1.],\n",
       "       [0., 0., 0., ..., 0., 0., 1.],\n",
       "       [0., 0., 0., ..., 0., 0., 1.]])"
      ]
     },
     "execution_count": 147,
     "metadata": {},
     "output_type": "execute_result"
    }
   ],
   "source": [
    "normalized_y"
   ]
  },
  {
   "cell_type": "markdown",
   "id": "ec064fe1",
   "metadata": {},
   "source": [
    "# Conficure the archetucture of the CNN Model"
   ]
  },
  {
   "cell_type": "markdown",
   "id": "3fc49990",
   "metadata": {},
   "source": [
    "### Define the features and target"
   ]
  },
  {
   "cell_type": "code",
   "execution_count": 166,
   "id": "0816f600",
   "metadata": {},
   "outputs": [],
   "source": [
    "\n",
    "features = ['duration', 'orig_bytes', 'resp_bytes', 'missed_bytes', 'orig_pkts', 'orig_ip_bytes', 'resp_pkts', 'resp_ip_bytes', 'proto_icmp', 'proto_tcp', 'proto_udp', 'conn_state_OTH', 'conn_state_REJ', 'conn_state_RSTO', 'conn_state_RSTOS0', 'conn_state_RSTR', 'conn_state_RSTRH', 'conn_state_S0', 'conn_state_S1', 'conn_state_S2', 'conn_state_S3', 'conn_state_SF', 'conn_state_SH', 'conn_state_SHR']\n",
    "target = 'label'\n",
    "\n",
    "# Load the data\n",
    "X = CNN[features]\n",
    "Y = CNN[target]\n",
    "\n"
   ]
  },
  {
   "cell_type": "markdown",
   "id": "4cd21539",
   "metadata": {},
   "source": [
    "### Define the CNN model"
   ]
  },
  {
   "cell_type": "code",
   "execution_count": 173,
   "id": "a08bb148",
   "metadata": {},
   "outputs": [
    {
     "name": "stdout",
     "output_type": "stream",
     "text": [
      "Epoch 1/10\n",
      "80/80 [==============================] - 1s 8ms/step - loss: 43781.6641 - accuracy: 0.3480 - val_loss: 6.2899 - val_accuracy: 0.7016\n",
      "Epoch 2/10\n",
      "80/80 [==============================] - 0s 3ms/step - loss: 17.7411 - accuracy: 0.6238 - val_loss: 3.9174 - val_accuracy: 0.7016\n",
      "Epoch 3/10\n",
      "80/80 [==============================] - 0s 3ms/step - loss: 77.4649 - accuracy: 0.6559 - val_loss: 2.5226 - val_accuracy: 0.7016\n",
      "Epoch 4/10\n",
      "80/80 [==============================] - 0s 3ms/step - loss: 6.5797 - accuracy: 0.6676 - val_loss: 1.9641 - val_accuracy: 0.7016\n",
      "Epoch 5/10\n",
      "80/80 [==============================] - 0s 3ms/step - loss: 4.8945 - accuracy: 0.6746 - val_loss: 1.1783 - val_accuracy: 0.7016\n",
      "Epoch 6/10\n",
      "80/80 [==============================] - 0s 3ms/step - loss: 4.7977 - accuracy: 0.6824 - val_loss: 0.8551 - val_accuracy: 0.7016\n",
      "Epoch 7/10\n",
      "80/80 [==============================] - 0s 3ms/step - loss: 3.4455 - accuracy: 0.6809 - val_loss: 0.9928 - val_accuracy: 0.7016\n",
      "Epoch 8/10\n",
      "80/80 [==============================] - 0s 3ms/step - loss: 2.9654 - accuracy: 0.6734 - val_loss: 0.6286 - val_accuracy: 0.6703\n",
      "Epoch 9/10\n",
      "80/80 [==============================] - 0s 3ms/step - loss: 3.2930 - accuracy: 0.6961 - val_loss: 0.9320 - val_accuracy: 0.7016\n",
      "Epoch 10/10\n",
      "80/80 [==============================] - 0s 4ms/step - loss: 2.4008 - accuracy: 0.6984 - val_loss: 0.5499 - val_accuracy: 0.6797\n",
      "25/25 - 0s - loss: 0.5276 - accuracy: 0.6812 - 57ms/epoch - 2ms/step\n",
      "Test accuracy: 0.6812499761581421\n"
     ]
    }
   ],
   "source": [
    "\n",
    "model = keras.Sequential([\n",
    "    layers.Dense(64, activation='relu', input_shape=(X_train.shape[1],)),\n",
    "    layers.Dropout(0.5),\n",
    "    layers.Dense(64, activation='relu'),\n",
    "    layers.Dropout(0.5),\n",
    "    layers.Dense(len(np.unique(Y)), activation='softmax')\n",
    "])\n",
    "\n",
    "# Compile the model\n",
    "model.compile(optimizer='adam',\n",
    "              loss='sparse_categorical_crossentropy',\n",
    "              metrics=['accuracy'])\n",
    "\n",
    "# Train the model\n",
    "history = model.fit(X_train, Y_train, epochs=10, validation_split=0.2)\n",
    "\n",
    "# Evaluate the model on the testing data\n",
    "test_loss, test_acc = model.evaluate(X_test, Y_test, verbose=2)\n",
    "print('Test accuracy:', test_acc)"
   ]
  },
  {
   "cell_type": "code",
   "execution_count": 174,
   "id": "0324bdde",
   "metadata": {},
   "outputs": [
    {
     "name": "stdout",
     "output_type": "stream",
     "text": [
      "Model: \"sequential_5\"\n",
      "_________________________________________________________________\n",
      " Layer (type)                Output Shape              Param #   \n",
      "=================================================================\n",
      " dense_36 (Dense)            (None, 64)                1600      \n",
      "                                                                 \n",
      " dropout_24 (Dropout)        (None, 64)                0         \n",
      "                                                                 \n",
      " dense_37 (Dense)            (None, 64)                4160      \n",
      "                                                                 \n",
      " dropout_25 (Dropout)        (None, 64)                0         \n",
      "                                                                 \n",
      " dense_38 (Dense)            (None, 13)                845       \n",
      "                                                                 \n",
      "=================================================================\n",
      "Total params: 6,605\n",
      "Trainable params: 6,605\n",
      "Non-trainable params: 0\n",
      "_________________________________________________________________\n"
     ]
    }
   ],
   "source": [
    "model.summary()"
   ]
  }
 ],
 "metadata": {
  "kernelspec": {
   "display_name": "Python 3 (ipykernel)",
   "language": "python",
   "name": "python3"
  },
  "language_info": {
   "codemirror_mode": {
    "name": "ipython",
    "version": 3
   },
   "file_extension": ".py",
   "mimetype": "text/x-python",
   "name": "python",
   "nbconvert_exporter": "python",
   "pygments_lexer": "ipython3",
   "version": "3.10.9"
  }
 },
 "nbformat": 4,
 "nbformat_minor": 5
}
